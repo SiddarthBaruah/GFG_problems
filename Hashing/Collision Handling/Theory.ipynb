{
 "cells": [
  {
   "attachments": {},
   "cell_type": "markdown",
   "metadata": {},
   "source": [
    "Collisions\n",
    "-------------------------"
   ]
  },
  {
   "attachments": {},
   "cell_type": "markdown",
   "metadata": {},
   "source": [
    "Collision can be handeled in two ways:\n",
    "\n",
    "0. Chaining\n",
    "1. Open Adressing\n",
    "    i. Linear Probling\n",
    "    ii. Quadratic Probling\n",
    "    iii. Double Hashing\n",
    "\n",
    "\n",
    "0. Chaining\n",
    "    Example we have to store phone numbers\n",
    "    998-xxx-xxxx-07\n",
    "    998-xxx-xxxx-08\n",
    "    998-xxx-xxxx-01\n",
    "    998-xxx-xxxx-02\n",
    "    998-xxx-xxxx-11 \n",
    "    \n",
    "    and our Hash function is:- \n",
    "        index= number%9;\n",
    "    so for sure the number ending with 00 and 11 , will come in the same index\n",
    "    so for that we will creat a chain\n",
    "\n",
    "    These chains can be created by three methods:\n",
    "        0. Linked List\\n\n",
    "        1. Dynamic sized array\n",
    "        2. Self Balancing BST( AVL tree, Red Block tree)\n",
    "            i. Preferebly use this since it has O(log(n)) for search insert and delete\n",
    "\n",
    "    So the elements in the same index(also now called nodes) will be contained in the node.\n"
   ]
  }
 ],
 "metadata": {
  "kernelspec": {
   "display_name": "base",
   "language": "python",
   "name": "python3"
  },
  "language_info": {
   "name": "python",
   "version": "3.8.8 (default, Apr 13 2021, 15:08:03) [MSC v.1916 64 bit (AMD64)]"
  },
  "orig_nbformat": 4,
  "vscode": {
   "interpreter": {
    "hash": "b98d9e8c046d4e1ce02cab36f21346f5312db8375035f8b80d948038fba9b1a6"
   }
  }
 },
 "nbformat": 4,
 "nbformat_minor": 2
}
